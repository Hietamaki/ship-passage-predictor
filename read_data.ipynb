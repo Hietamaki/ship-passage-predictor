{
 "cells": [
  {
   "cell_type": "code",
   "execution_count": 38,
   "metadata": {},
   "outputs": [
    {
     "data": {
      "text/html": [
       "<div>\n",
       "<style scoped>\n",
       "    .dataframe tbody tr th:only-of-type {\n",
       "        vertical-align: middle;\n",
       "    }\n",
       "\n",
       "    .dataframe tbody tr th {\n",
       "        vertical-align: top;\n",
       "    }\n",
       "\n",
       "    .dataframe thead th {\n",
       "        text-align: right;\n",
       "    }\n",
       "</style>\n",
       "<table border=\"1\" class=\"dataframe\">\n",
       "  <thead>\n",
       "    <tr style=\"text-align: right;\">\n",
       "      <th></th>\n",
       "      <th>Ship ID</th>\n",
       "      <th>Time</th>\n",
       "      <th>Lat</th>\n",
       "      <th>Lon</th>\n",
       "    </tr>\n",
       "  </thead>\n",
       "  <tbody>\n",
       "    <tr>\n",
       "      <th>0</th>\n",
       "      <td>246430000</td>\n",
       "      <td>1526304226853</td>\n",
       "      <td>19.077677</td>\n",
       "      <td>58.641653</td>\n",
       "    </tr>\n",
       "    <tr>\n",
       "      <th>1</th>\n",
       "      <td>246430000</td>\n",
       "      <td>1526304686566</td>\n",
       "      <td>19.105833</td>\n",
       "      <td>58.663473</td>\n",
       "    </tr>\n",
       "    <tr>\n",
       "      <th>2</th>\n",
       "      <td>246430000</td>\n",
       "      <td>1526305706419</td>\n",
       "      <td>19.168350</td>\n",
       "      <td>58.711270</td>\n",
       "    </tr>\n",
       "    <tr>\n",
       "      <th>3</th>\n",
       "      <td>246430000</td>\n",
       "      <td>1526306045747</td>\n",
       "      <td>19.189175</td>\n",
       "      <td>58.727265</td>\n",
       "    </tr>\n",
       "    <tr>\n",
       "      <th>4</th>\n",
       "      <td>246430000</td>\n",
       "      <td>1526306975448</td>\n",
       "      <td>19.245040</td>\n",
       "      <td>58.771758</td>\n",
       "    </tr>\n",
       "  </tbody>\n",
       "</table>\n",
       "</div>"
      ],
      "text/plain": [
       "     Ship ID           Time        Lat        Lon\n",
       "0  246430000  1526304226853  19.077677  58.641653\n",
       "1  246430000  1526304686566  19.105833  58.663473\n",
       "2  246430000  1526305706419  19.168350  58.711270\n",
       "3  246430000  1526306045747  19.189175  58.727265\n",
       "4  246430000  1526306975448  19.245040  58.771758"
      ]
     },
     "execution_count": 38,
     "metadata": {},
     "output_type": "execute_result"
    }
   ],
   "source": [
    "import pandas as pd\n",
    "from io import StringIO\n",
    "\n",
    "s = StringIO()\n",
    "\n",
    "for ln in open(\"AIS_2018-05_1.txt\"):\n",
    "    cells = ln.split()\n",
    "    for i in range(1, len(cells), 3):\n",
    "        s.write(\",\".join([cells[0]]+cells[i:i+3]) + '\\n')\n",
    "    break\n",
    "\n",
    "s.seek(0)\n",
    "df = pd.read_csv(s, names=['Ship ID', \"Time\", \"Lat\", \"Lon\"], parse_dates=[\"Time\"])\n",
    "\n",
    "df.head()\n",
    "        "
   ]
  },
  {
   "cell_type": "code",
   "execution_count": null,
   "metadata": {},
   "outputs": [],
   "source": []
  }
 ],
 "metadata": {
  "kernelspec": {
   "display_name": "Python 3",
   "language": "python",
   "name": "python3"
  },
  "language_info": {
   "codemirror_mode": {
    "name": "ipython",
    "version": 3
   },
   "file_extension": ".py",
   "mimetype": "text/x-python",
   "name": "python",
   "nbconvert_exporter": "python",
   "pygments_lexer": "ipython3",
   "version": "3.7.3"
  }
 },
 "nbformat": 4,
 "nbformat_minor": 2
}
