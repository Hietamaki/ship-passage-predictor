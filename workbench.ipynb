{
 "cells": [
  {
   "cell_type": "code",
   "execution_count": 1,
   "metadata": {},
   "outputs": [
    {
     "name": "stderr",
     "output_type": "stream",
     "text": [
      "/usr/lib/python3.7/importlib/_bootstrap.py:219: RuntimeWarning: numpy.ufunc size changed, may indicate binary incompatibility. Expected 192 from C header, got 216 from PyObject\n",
      "  return f(*args, **kwds)\n",
      "/usr/lib/python3.7/importlib/_bootstrap.py:219: RuntimeWarning: numpy.ufunc size changed, may indicate binary incompatibility. Expected 192 from C header, got 216 from PyObject\n",
      "  return f(*args, **kwds)\n",
      "/usr/lib/python3.7/importlib/_bootstrap.py:219: RuntimeWarning: numpy.ufunc size changed, may indicate binary incompatibility. Expected 192 from C header, got 216 from PyObject\n",
      "  return f(*args, **kwds)\n",
      "/usr/lib/python3.7/importlib/_bootstrap.py:219: RuntimeWarning: numpy.ufunc size changed, may indicate binary incompatibility. Expected 192 from C header, got 216 from PyObject\n",
      "  return f(*args, **kwds)\n",
      "/usr/lib/python3.7/importlib/_bootstrap.py:219: RuntimeWarning: numpy.ufunc size changed, may indicate binary incompatibility. Expected 192 from C header, got 216 from PyObject\n",
      "  return f(*args, **kwds)\n"
     ]
    },
    {
     "name": "stdout",
     "output_type": "stream",
     "text": [
      "Loaded 2082 objects from nodes.h5\n",
      "Loaded 12954 objects from ships.h5\n",
      "Loaded 1795 objects from nodes-test.h5\n"
     ]
    },
    {
     "data": {
      "image/png": "[encoded data removed]",
      "text/plain": [
       "<Figure size 432x288 with 1 Axes>"
      ]
     },
     "metadata": {
      "needs_background": "light"
     },
     "output_type": "display_data"
    }
   ],
   "source": [
    "%matplotlib inline\n",
    "import matplotlib.pyplot as plt\n",
    "plt.plot([1,1.6,3])\n",
    "import constants as c\n",
    "import database as db\n",
    "import numpy as np\n",
    "import pandas as pd\n",
    "\n",
    "from util import get_closest\n",
    "%load_ext autoreload\n",
    "%autoreload 2\n",
    "\n",
    "\n",
    "nodes = db.load_list(c.NODES_FILENAME)\n",
    "ships = db.load_list(c.SHIPS_FILENAME)\n",
    "tnodes = db.load_list(c.TEST_NODES_FILENAME)"
   ]
  },
  {
   "cell_type": "code",
   "execution_count": null,
   "metadata": {},
   "outputs": [
    {
     "name": "stdout",
     "output_type": "stream",
     "text": [
      "Uusi ax\n",
      "< GeoAxes: <cartopy.crs.Mercator object at 0x7f327d9c5e30> >\n",
      "Uusi ax\n",
      "< GeoAxes: <cartopy.crs.Mercator object at 0x7f327d9c5e30> >\n",
      "3 5 0.6\n",
      "2 5 0.4\n",
      "2 5 0.4\n",
      "3 5 0.6\n",
      "5 5 1.0\n",
      "1 5 0.2\n",
      "3 5 0.6\n",
      "2 5 0.4\n",
      "3 5 0.6\n",
      "3 5 0.6\n",
      "3 5 0.6\n",
      "2 5 0.4\n",
      "3 5 0.6\n",
      "5 5 1.0\n",
      "2 5 0.4\n",
      "1 5 0.2\n",
      "4 5 0.8\n",
      "3 5 0.6\n",
      "4 5 0.8\n",
      "2 5 0.4\n",
      "5 5 1.0\n",
      "2 5 0.4\n",
      "4 5 0.8\n",
      "2 5 0.4\n",
      "3 5 0.6\n",
      "5 5 1.0\n",
      "4 5 0.8\n",
      "4 5 0.8\n",
      "3 5 0.6\n",
      "2 5 0.4\n",
      "1 5 0.2\n",
      "1 5 0.2\n",
      "4 5 0.8\n",
      "1 5 0.2\n",
      "3 5 0.6\n",
      "1 5 0.2\n",
      "2 5 0.4\n",
      "2 5 0.4\n",
      "2 5 0.4\n",
      "3 5 0.6\n",
      "2 5 0.4\n",
      "3 5 0.6\n",
      "2 5 0.4\n",
      "3 5 0.6\n",
      "3 5 0.6\n",
      "3 5 0.6\n",
      "2 5 0.4\n",
      "4 5 0.8\n",
      "2 5 0.4\n",
      "3 5 0.6\n",
      "1 5 0.2\n",
      "2 5 0.4\n",
      "3 5 0.6\n",
      "2 5 0.4\n",
      "3 5 0.6\n",
      "2 5 0.4\n",
      "1 5 0.2\n",
      "4 5 0.8\n",
      "3 5 0.6\n",
      "2 5 0.4\n",
      "2 5 0.4\n",
      "4 5 0.8\n",
      "3 5 0.6\n",
      "2 5 0.4\n",
      "3 5 0.6\n",
      "5 5 1.0\n"
     ]
    }
   ],
   "source": [
    "from testgoing import test_going\n",
    "test_going(nodes, tnodes, True, 5)"
   ]
  },
  {
   "cell_type": "code",
   "execution_count": 80,
   "metadata": {},
   "outputs": [
    {
     "name": "stdout",
     "output_type": "stream",
     "text": [
      "{0: 67391, 1: 30866, -1: 818} 99075\n",
      "0.6802018672722685\n",
      "0.31154176129195055\n",
      "0.008256371435780974\n"
     ]
    }
   ],
   "source": [
    "s = {0: 0, 1: 0, -1: 0}\n",
    "for node in tnodes:\n",
    "    #print(node.uncertainty)\n",
    "    counts = np.unique(node.uncertainty, return_counts=True)\n",
    "    \n",
    "    for i in range(0, len(counts[0])):\n",
    "        s[counts[0][i]] = s[counts[0][i]] + counts[1][i]\n",
    "\n",
    "        total = np.fromiter(s.values(), dtype=int).sum()\n",
    "print(s, total)\n",
    "\n",
    "for v in s.values():\n",
    "    print(v/total)\n",
    "    "
   ]
  },
  {
   "cell_type": "code",
   "execution_count": 85,
   "metadata": {},
   "outputs": [
    {
     "name": "stdout",
     "output_type": "stream",
     "text": [
      "416 402\n"
     ]
    },
    {
     "data": {
      "text/plain": [
       "0.508557457212714"
      ]
     },
     "execution_count": 85,
     "metadata": {},
     "output_type": "execute_result"
    }
   ],
   "source": [
    "a=0\n",
    "b=0\n",
    "for node in tnodes:\n",
    "    #print(node.uncertainty)\n",
    "    for i in range(0, len(node.uncertainty)):\n",
    "        if node.uncertainty[i] == -1:\n",
    "            if node.label[i]:\n",
    "                a += 1\n",
    "            else:\n",
    "                b += 1\n",
    "print(a,b)\n",
    "s=a+b\n",
    "a/s"
   ]
  },
  {
   "cell_type": "code",
   "execution_count": 85,
   "metadata": {},
   "outputs": [
    {
     "data": {
      "text/html": [
       "<div>\n",
       "<style scoped>\n",
       "    .dataframe tbody tr th:only-of-type {\n",
       "        vertical-align: middle;\n",
       "    }\n",
       "\n",
       "    .dataframe tbody tr th {\n",
       "        vertical-align: top;\n",
       "    }\n",
       "\n",
       "    .dataframe thead th {\n",
       "        text-align: right;\n",
       "    }\n",
       "</style>\n",
       "<table border=\"1\" class=\"dataframe\">\n",
       "  <thead>\n",
       "    <tr style=\"text-align: right;\">\n",
       "      <th></th>\n",
       "      <th>Reach %</th>\n",
       "      <th>K</th>\n",
       "      <th>alpha</th>\n",
       "    </tr>\n",
       "  </thead>\n",
       "  <tbody>\n",
       "    <tr>\n",
       "      <th>Reach %</th>\n",
       "      <td>1.000000</td>\n",
       "      <td>0.556928</td>\n",
       "      <td>-0.429322</td>\n",
       "    </tr>\n",
       "    <tr>\n",
       "      <th>K</th>\n",
       "      <td>0.556928</td>\n",
       "      <td>1.000000</td>\n",
       "      <td>-0.261936</td>\n",
       "    </tr>\n",
       "    <tr>\n",
       "      <th>alpha</th>\n",
       "      <td>-0.429322</td>\n",
       "      <td>-0.261936</td>\n",
       "      <td>1.000000</td>\n",
       "    </tr>\n",
       "  </tbody>\n",
       "</table>\n",
       "</div>"
      ],
      "text/plain": [
       "          Reach %         K     alpha\n",
       "Reach %  1.000000  0.556928 -0.429322\n",
       "K        0.556928  1.000000 -0.261936\n",
       "alpha   -0.429322 -0.261936  1.000000"
      ]
     },
     "execution_count": 85,
     "metadata": {},
     "output_type": "execute_result"
    }
   ],
   "source": [
    "import pandas as pd\n",
    "a = []\n",
    "b=[]\n",
    "c=[]\n",
    "for n in nodes:\n",
    "    if n.reach_k > 0:\n",
    "        a.append(n.reach_percentage())\n",
    "        b.append(n.reach_k)\n",
    "        c.append(n.alpha)\n",
    "df=pd.DataFrame(np.array([a,b,c]).T.reshape(-1, 3), columns=[\"Reach %\", \"K\", \"alpha\"])\n",
    "\n",
    "df.corr()\n",
    "#plt.plot(b,c, 'bo')\n",
    "#plt.hist(a)"
   ]
  },
  {
   "cell_type": "code",
   "execution_count": null,
   "metadata": {},
   "outputs": [],
   "source": []
  },
  {
   "cell_type": "code",
   "execution_count": 23,
   "metadata": {},
   "outputs": [
    {
     "name": "stdout",
     "output_type": "stream",
     "text": [
      "[[ 1.9135333  -1.3076064   0.22361125 ... -1.23487103 -1.1835983\n",
      "   1.94080795]\n",
      " [ 3.51617295  3.55163387  1.64597995 ...  4.72228199  3.866573\n",
      "   4.80698855]]\n"
     ]
    },
    {
     "data": {
      "text/plain": [
       "array([[ 1.9135333 ,  3.51617295],\n",
       "       [-1.3076064 ,  3.55163387],\n",
       "       [ 0.22361125,  1.64597995],\n",
       "       ...,\n",
       "       [-1.23487103,  4.72228199],\n",
       "       [-1.1835983 ,  3.866573  ],\n",
       "       [ 1.94080795,  4.80698855]])"
      ]
     },
     "execution_count": 23,
     "metadata": {},
     "output_type": "execute_result"
    }
   ],
   "source": [
    "#n = nodes[100]\n",
    "#n.draw()\n",
    "n.get_features()"
   ]
  },
  {
   "cell_type": "code",
   "execution_count": 11,
   "metadata": {},
   "outputs": [],
   "source": [
    "%matplotlib inline\n",
    "import matplotlib.pyplot as plt\n",
    "from map import Map\n",
    "#ship = ships[4]\n",
    "import cartopy.crs as ccrs\n",
    "\n",
    "#Map.plot_route(ship.xyt[0], ship.xyt[1])\n",
    "Map.draw()#.set_extent([1800100, 3400100, 7600100, 8800100], crs=ccrs.Mercator())\n",
    "#Map.draw_area(c.MEAS_AREA, 'green')\n",
    "#print(ship.detect_passages())\n",
    "# 167 µs per loop\n",
    "#%timeit ship.detect_passages()"
   ]
  },
  {
   "cell_type": "code",
   "execution_count": null,
   "metadata": {},
   "outputs": [],
   "source": [
    "#tests and visualizations\n",
    "    # reach %-score map\n",
    "    # reach\n",
    "        # conf matrix + scores\n",
    "            # with and wihout k optimization\n",
    "        # map of recall and sensitivity by nodes\n",
    "    # path\n",
    "        # accuracy graphs"
   ]
  },
  {
   "cell_type": "code",
   "execution_count": 36,
   "metadata": {},
   "outputs": [
    {
     "name": "stdout",
     "output_type": "stream",
     "text": [
      "100000 loops, best of 5: 6.46 µs per loop\n"
     ]
    }
   ],
   "source": [
    "\n",
    "import route\n",
    "\n",
    "node = get_closest(nodes, 10000, 6555000)\n",
    "#print(len(node.passages))\n",
    "p = node.passages[12]\n",
    "xy = np.array((p.x, p.y))\n",
    "#(95, 105)\n",
    "#10000 loops, best of 5: 20.4 µs per loop\n",
    "\n",
    "%timeit route.route_in_area(xy)\n",
    "#for p in node.passages:\n",
    "#    print(route.route_in_area(p.x, p.y))\n"
   ]
  },
  {
   "cell_type": "code",
   "execution_count": 86,
   "metadata": {},
   "outputs": [
    {
     "name": "stdout",
     "output_type": "stream",
     "text": [
      "The slowest run took 4.98 times longer than the fastest. This could mean that an intermediate result is being cached.\n",
      "100000 loops, best of 5: 12.2 µs per loop\n"
     ]
    },
    {
     "data": {
      "text/plain": [
       "(95, 105)"
      ]
     },
     "execution_count": 86,
     "metadata": {},
     "output_type": "execute_result"
    }
   ],
   "source": [
    "from constants import MEAS_AREA \n",
    "\n",
    "def route2(xy):\n",
    "    enters_i = False\n",
    "    x = xy[0]\n",
    "    y = xy[1]\n",
    "\n",
    "    b = ((xy[0] > MEAS_AREA[0]) & (xy[0] < MEAS_AREA[1]) &\n",
    "         (xy[1] > MEAS_AREA[2]) & (xy[1] < MEAS_AREA[3]))\n",
    "\n",
    "    for i in range(0, len(x) - 1):\n",
    "        if b[i]:\n",
    "\n",
    "            if enters_i is False:\n",
    "                enters_i = i\n",
    "\n",
    "        elif enters_i is not False:\n",
    "            return enters_i, i\n",
    "\n",
    "    if enters_i is not False:\n",
    "        return enters_i, len(x) - 1\n",
    "    else:\n",
    "        return False\n",
    "\n",
    "%timeit route2(xy)\n",
    "\n"
   ]
  },
  {
   "cell_type": "code",
   "execution_count": 14,
   "metadata": {},
   "outputs": [
    {
     "name": "stdout",
     "output_type": "stream",
     "text": [
      "Loaded 2138 objects from nodes.h5\n",
      "0.3476190476190476\n",
      "210\n",
      "0.6523809523809523\n"
     ]
    },
    {
     "data": {
      "image/png": "[encoded data removed]",
      "text/plain": [
       "<Figure size 432x288 with 1 Axes>"
      ]
     },
     "metadata": {
      "needs_background": "light"
     },
     "output_type": "display_data"
    },
    {
     "name": "stdout",
     "output_type": "stream",
     "text": [
      "[0.09523809523809523, 1.0, 1.0, 0.38095238095238093, 0.8095238095238095, 0.38095238095238093, 0.19047619047619047, 1.0, 0.42857142857142855, 0.5238095238095238, 0.47619047619047616, 0.047619047619047616, 0.5238095238095238, 0.5238095238095238, 1.0, 1.0, 0.5238095238095238, 0.47619047619047616, 0.19047619047619047, 0.09523809523809523, 0.09523809523809523, 1.0, 0.47619047619047616, 0.14285714285714285, 1.0, 1.0, 0.42857142857142855, 1.0, 0.47619047619047616, 0.09523809523809523, 1.0, 1.0, 1.0, 1.0, 1.0, 0.5714285714285714, 1.0, 1.0, 1.0, 1.0, 1.0, 1.0, 0.09523809523809523, 0.3333333333333333, 1.0, 1.0, 0.5238095238095238, 0.3333333333333333, 1.0, 0.38095238095238093]\n",
      "(0.6523809523809523, 0.5517279720533469, 0.7530339327085577)\n",
      "(0.5517279720533469, 0.7530339327085577)\n"
     ]
    }
   ],
   "source": [
    "import random\n",
    "import numpy as np\n",
    "import scipy\n",
    "import matplotlib.pyplot as plt\n",
    "import constants as c\n",
    "\n",
    "from node import Node\n",
    "from database import load_list\n",
    "from map import Map\n",
    "from predict import predict_going\n",
    "\n",
    "nodes = load_list(c.NODES_FILENAME)\n",
    "\n",
    "n = nodes[601]\n",
    "\n",
    "def pick_random_passage(node, n):\n",
    "\n",
    "\tlabeleds = [i for i in range(0, len(node.label))]\n",
    "\tsize = len(labeleds) if len(labeleds) < n else n\n",
    "\n",
    "\treturn random.sample(labeleds, size)\n",
    "\n",
    "def mean_confidence_interval(data, confidence=0.95):\n",
    "    a = 1.0 * np.array(data)\n",
    "    n = len(a)\n",
    "    m, se = np.mean(a), scipy.stats.sem(a)\n",
    "    h = se * scipy.stats.t.ppf((1 + confidence) / 2., n-1)\n",
    "    return m, m-h, m+h\n",
    "\n",
    "import scipy.stats as st\n",
    "\n",
    "n.draw()\n",
    "print(n.rp)\n",
    "\n",
    "#Map.draw()\n",
    "\n",
    "print(len(n.passages))\n",
    "means = []\n",
    "for p in pick_random_passage(n, 50):\n",
    "\troute = n.get_route(p)\n",
    "\n",
    "\tmeans.append(predict_going(nodes, route[0], route[1]))\n",
    "\n",
    "print(np.mean(means))\n",
    "plt.hist(means)\n",
    "\n",
    "plt.show()\n",
    "print(means)\n",
    "print(mean_confidence_interval(means))\n",
    "print(st.t.interval(0.95, len(means)-1, loc=np.mean(means), scale=st.sem(means)))"
   ]
  },
  {
   "cell_type": "code",
   "execution_count": 11,
   "metadata": {},
   "outputs": [
    {
     "name": "stdout",
     "output_type": "stream",
     "text": [
      "Loaded 2138 objects from nodes.h5\n",
      "[ 47 116  17  26  21 142  75  49  90 198 155 196 159 113 103 122 104 204\n",
      "  23 157 120 195 138]\n",
      "A\n",
      "[0.8695652173913043, 0.8695652173913043, 0.8695652173913043, 0.6521739130434783, 0.8695652173913043, 0.6956521739130435, 0.8260869565217391, 0.8260869565217391, 0.8695652173913043, 0.782608695652174, 0.7391304347826086, 0.8695652173913043, 0.8260869565217391, 0.782608695652174, 0.9130434782608695, 0.6956521739130435, 0.6521739130434783, 0.8695652173913043, 0.9565217391304348, 0.782608695652174, 0.6521739130434783, 0.782608695652174, 0.8260869565217391, 0.782608695652174, 0.9565217391304348, 0.8695652173913043, 1.0, 0.782608695652174, 0.9130434782608695, 0.9130434782608695, 0.9130434782608695, 0.8695652173913043, 0.8695652173913043, 0.6956521739130435, 0.9565217391304348, 0.8695652173913043, 0.8695652173913043, 0.8260869565217391, 0.8260869565217391, 0.9130434782608695, 0.8695652173913043, 0.6956521739130435, 0.8260869565217391, 0.8695652173913043, 0.6521739130434783, 0.7391304347826086, 0.9565217391304348, 0.8695652173913043, 0.782608695652174, 0.8695652173913043, 0.8260869565217391, 0.8260869565217391, 0.782608695652174, 0.8695652173913043, 0.782608695652174, 0.6521739130434783, 0.6956521739130435, 0.9130434782608695, 0.8260869565217391, 0.9130434782608695, 0.782608695652174, 0.8695652173913043, 0.9565217391304348, 0.9565217391304348, 0.782608695652174, 0.8260869565217391, 0.8260869565217391, 0.8260869565217391, 0.6956521739130435, 0.8695652173913043, 0.6956521739130435, 0.8695652173913043, 0.8695652173913043, 0.782608695652174, 0.6956521739130435, 0.782608695652174, 0.8260869565217391, 0.8260869565217391, 0.9130434782608695, 0.9565217391304348, 0.782608695652174, 0.7391304347826086, 0.9130434782608695, 0.8260869565217391, 0.6956521739130435, 0.782608695652174, 0.782608695652174, 0.7391304347826086, 0.7391304347826086, 0.8260869565217391, 0.9130434782608695, 0.782608695652174, 0.9130434782608695, 0.8695652173913043, 0.782608695652174, 0.782608695652174, 0.7391304347826086, 0.782608695652174, 0.9130434782608695, 0.782608695652174, 0.6956521739130435, 0.9130434782608695, 0.8260869565217391, 0.7391304347826086, 0.9130434782608695, 0.8260869565217391, 0.782608695652174, 0.8260869565217391, 0.9565217391304348, 0.8260869565217391, 0.8260869565217391, 0.9565217391304348, 0.7391304347826086, 0.782608695652174, 0.8695652173913043, 0.9130434782608695, 0.9565217391304348, 0.8695652173913043, 0.9130434782608695, 0.782608695652174, 0.8695652173913043, 0.782608695652174, 0.8695652173913043, 0.6956521739130435, 0.9565217391304348, 0.9565217391304348, 0.6956521739130435, 0.782608695652174, 0.782608695652174, 0.9130434782608695, 0.782608695652174, 0.8260869565217391, 0.8695652173913043, 0.7391304347826086, 0.8695652173913043, 0.8695652173913043, 0.7391304347826086, 0.9130434782608695, 0.8695652173913043, 0.782608695652174, 0.8260869565217391, 0.782608695652174, 0.9130434782608695, 0.8695652173913043, 0.8260869565217391, 0.782608695652174, 0.8695652173913043, 0.782608695652174, 0.8695652173913043, 0.8260869565217391, 0.782608695652174, 0.6956521739130435, 0.9130434782608695, 0.8260869565217391, 0.9130434782608695, 0.6521739130434783, 0.8695652173913043, 0.782608695652174, 0.9130434782608695, 0.782608695652174, 0.782608695652174, 0.7391304347826086, 0.9565217391304348, 0.9130434782608695, 0.7391304347826086, 0.782608695652174, 0.8260869565217391, 0.8695652173913043, 0.782608695652174, 0.8695652173913043, 0.9130434782608695, 0.7391304347826086, 0.8695652173913043, 0.8695652173913043, 0.8260869565217391, 0.7391304347826086, 0.8695652173913043, 0.782608695652174, 1.0, 0.7391304347826086, 0.6956521739130435, 0.8695652173913043, 0.9130434782608695, 0.6956521739130435, 0.8260869565217391, 0.8695652173913043, 0.7391304347826086, 0.8695652173913043, 0.8695652173913043, 0.9130434782608695, 0.8260869565217391, 0.782608695652174, 0.9565217391304348, 0.8695652173913043, 0.8695652173913043, 0.8260869565217391, 0.8695652173913043, 0.8695652173913043, 0.8695652173913043, 0.8695652173913043]\n",
      "(0.8282608695652175, 0.8191106291571089, 0.8374111099733261)\n",
      "0.8282608695652175\n"
     ]
    },
    {
     "data": {
      "image/png": "[encoded data removed]",
      "text/plain": [
       "<Figure size 432x288 with 1 Axes>"
      ]
     },
     "metadata": {
      "needs_background": "light"
     },
     "output_type": "display_data"
    }
   ],
   "source": [
    "import random\n",
    "import numpy as np\n",
    "import scipy\n",
    "import matplotlib.pyplot as plt\n",
    "import constants as c\n",
    "\n",
    "from node import Node\n",
    "from database import load_list\n",
    "from map import Map\n",
    "from predict import predict_going, going_preprocess\n",
    "from sklearn.neighbors import KNeighborsClassifier, NearestNeighbors\n",
    "\n",
    "nodes = load_list(c.NODES_FILENAME)\n",
    "\n",
    "n = nodes[601]\n",
    "\n",
    "def pick_random_passage(node, n):\n",
    "\n",
    "\tlabeleds = [i for i in range(0, len(node.label))]\n",
    "\tsize = len(labeleds) if len(labeleds) < n else n\n",
    "\n",
    "\treturn random.sample(labeleds, size)\n",
    "\n",
    "def mean_confidence_interval(data, confidence=0.95):\n",
    "    a = 1.0 * np.array(data)\n",
    "    n = len(a)\n",
    "    m, se = np.mean(a), scipy.stats.sem(a)\n",
    "    h = se * scipy.stats.t.ppf((1 + confidence) / 2., n-1)\n",
    "    return m, m-h, m+h\n",
    "\n",
    "n.draw()\n",
    "#print(n.rp)\n",
    "\n",
    "#Map.draw()\n",
    "\n",
    "#print(len(n.passages))\n",
    "means = []\n",
    "#for p in pick_random_passage(n, 50):\n",
    "p = pick_random_passage(n, 1)[0]\n",
    "route = n.get_route(p)\n",
    "x_train, x_test, labels, k = going_preprocess(nodes, route[0], route[1])\n",
    "nearest = NearestNeighbors(n_neighbors=k)\n",
    "nearest.fit(x_train)\n",
    "dists, neighbors_id = nearest.kneighbors(x_test)\n",
    "print(neighbors_id[0])\n",
    "print(\"A\")\n",
    "for i in range(0, 200):\n",
    "\tmeans.append(np.mean(np.random.choice(labels[neighbors_id[0]], n.reach_k)))\n",
    "\t\n",
    "\n",
    "\n",
    "print(means)\n",
    "print(mean_confidence_interval(means, 0.9))\n",
    "print(np.mean(means))\n",
    "plt.hist(means, 20)\n",
    "plt.show()\n",
    "\n",
    "# toimiiko mean_confidence_interval oikein, testaa arr = [0.2, 0.6, 8]"
   ]
  }
 ],
 "metadata": {
  "kernelspec": {
   "display_name": "Python 3",
   "language": "python",
   "name": "python3"
  },
  "language_info": {
   "codemirror_mode": {
    "name": "ipython",
    "version": 3
   },
   "file_extension": ".py",
   "mimetype": "text/x-python",
   "name": "python",
   "nbconvert_exporter": "python",
   "pygments_lexer": "ipython3",
   "version": "3.7.7"
  }
 },
 "nbformat": 4,
 "nbformat_minor": 2
}
