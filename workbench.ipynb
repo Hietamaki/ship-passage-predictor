{
 "cells": [
  {
   "cell_type": "code",
   "execution_count": null,
   "metadata": {},
   "outputs": [
    {
     "name": "stdout",
     "output_type": "stream",
     "text": [
      "The autoreload extension is already loaded. To reload it, use:\n",
      "  %reload_ext autoreload\n"
     ]
    }
   ],
   "source": [
    "%matplotlib inline\n",
    "import matplotlib.pyplot as plt\n",
    "plt.plot([1,1.6,3])\n",
    "import constants as c\n",
    "import database as db\n",
    "import numpy as np\n",
    "\n",
    "from util import get_closest\n",
    "%load_ext autoreload\n",
    "%autoreload 2\n",
    "\n",
    "\n",
    "nodes = db.load_list(c.NODES_FILENAME)\n",
    "ships = db.load_list(c.SHIPS_FILENAME)"
   ]
  },
  {
   "cell_type": "code",
   "execution_count": null,
   "metadata": {},
   "outputs": [],
   "source": []
  },
  {
   "cell_type": "code",
   "execution_count": 1,
   "metadata": {},
   "outputs": [
    {
     "ename": "NameError",
     "evalue": "name 'ships' is not defined",
     "output_type": "error",
     "traceback": [
      "\u001b[1;31m---------------------------------------------------------------------------\u001b[0m",
      "\u001b[1;31mNameError\u001b[0m                                 Traceback (most recent call last)",
      "\u001b[1;32m<ipython-input-1-e40aa333569b>\u001b[0m in \u001b[0;36m<module>\u001b[1;34m\u001b[0m\n\u001b[0;32m      1\u001b[0m \u001b[0mget_ipython\u001b[0m\u001b[1;33m(\u001b[0m\u001b[1;33m)\u001b[0m\u001b[1;33m.\u001b[0m\u001b[0mrun_line_magic\u001b[0m\u001b[1;33m(\u001b[0m\u001b[1;34m'matplotlib'\u001b[0m\u001b[1;33m,\u001b[0m \u001b[1;34m'inline'\u001b[0m\u001b[1;33m)\u001b[0m\u001b[1;33m\u001b[0m\u001b[1;33m\u001b[0m\u001b[0m\n\u001b[0;32m      2\u001b[0m \u001b[1;32mimport\u001b[0m \u001b[0mmatplotlib\u001b[0m\u001b[1;33m.\u001b[0m\u001b[0mpyplot\u001b[0m \u001b[1;32mas\u001b[0m \u001b[0mplt\u001b[0m\u001b[1;33m\u001b[0m\u001b[1;33m\u001b[0m\u001b[0m\n\u001b[1;32m----> 3\u001b[1;33m \u001b[0mship\u001b[0m \u001b[1;33m=\u001b[0m \u001b[0mships\u001b[0m\u001b[1;33m[\u001b[0m\u001b[1;36m4\u001b[0m\u001b[1;33m]\u001b[0m\u001b[1;33m\u001b[0m\u001b[1;33m\u001b[0m\u001b[0m\n\u001b[0m\u001b[0;32m      4\u001b[0m \u001b[1;32mimport\u001b[0m \u001b[0mcartopy\u001b[0m\u001b[1;33m.\u001b[0m\u001b[0mcrs\u001b[0m \u001b[1;32mas\u001b[0m \u001b[0mccrs\u001b[0m\u001b[1;33m\u001b[0m\u001b[1;33m\u001b[0m\u001b[0m\n\u001b[0;32m      5\u001b[0m \u001b[1;33m\u001b[0m\u001b[0m\n",
      "\u001b[1;31mNameError\u001b[0m: name 'ships' is not defined"
     ]
    }
   ],
   "source": [
    "%matplotlib inline\n",
    "import matplotlib.pyplot as plt\n",
    "ship = ships[4]\n",
    "import cartopy.crs as ccrs\n",
    "\n",
    "Map.plot_route(ship.xyt[0], ship.xyt[1])\n",
    "Map.draw().set_extent([1800100, 3400100, 7600100, 8800100], crs=ccrs.Mercator())\n",
    "Map.draw_area(c.MEAS_AREA, 'green')\n",
    "print(ship.detect_passages())\n",
    "# 167 µs per loop\n",
    "#%timeit ship.detect_passages()"
   ]
  },
  {
   "cell_type": "code",
   "execution_count": null,
   "metadata": {},
   "outputs": [],
   "source": [
    "#tests and visualizations\n",
    "    # reach %-score map\n",
    "    # reach\n",
    "        # conf matrix + scores\n",
    "            # with and wihout k optimization\n",
    "        # map of recall and sensitivity by nodes\n",
    "    # path\n",
    "        # accuracy graphs"
   ]
  },
  {
   "cell_type": "code",
   "execution_count": 36,
   "metadata": {},
   "outputs": [
    {
     "name": "stdout",
     "output_type": "stream",
     "text": [
      "100000 loops, best of 5: 6.46 µs per loop\n"
     ]
    }
   ],
   "source": [
    "\n",
    "import route\n",
    "\n",
    "node = get_closest(nodes, 10000, 6555000)\n",
    "#print(len(node.passages))\n",
    "p = node.passages[12]\n",
    "xy = np.array((p.x, p.y))\n",
    "#(95, 105)\n",
    "#10000 loops, best of 5: 20.4 µs per loop\n",
    "\n",
    "%timeit route.route_in_area(xy)\n",
    "#for p in node.passages:\n",
    "#    print(route.route_in_area(p.x, p.y))\n"
   ]
  },
  {
   "cell_type": "code",
   "execution_count": 86,
   "metadata": {},
   "outputs": [
    {
     "name": "stdout",
     "output_type": "stream",
     "text": [
      "The slowest run took 4.98 times longer than the fastest. This could mean that an intermediate result is being cached.\n",
      "100000 loops, best of 5: 12.2 µs per loop\n"
     ]
    },
    {
     "data": {
      "text/plain": [
       "(95, 105)"
      ]
     },
     "execution_count": 86,
     "metadata": {},
     "output_type": "execute_result"
    }
   ],
   "source": [
    "from constants import MEAS_AREA \n",
    "\n",
    "def route2(xy):\n",
    "    enters_i = False\n",
    "    x = xy[0]\n",
    "    y = xy[1]\n",
    "\n",
    "    b = ((xy[0] > MEAS_AREA[0]) & (xy[0] < MEAS_AREA[1]) &\n",
    "         (xy[1] > MEAS_AREA[2]) & (xy[1] < MEAS_AREA[3]))\n",
    "\n",
    "    for i in range(0, len(x) - 1):\n",
    "        if b[i]:\n",
    "\n",
    "            if enters_i is False:\n",
    "                enters_i = i\n",
    "\n",
    "        elif enters_i is not False:\n",
    "            return enters_i, i\n",
    "\n",
    "    if enters_i is not False:\n",
    "        return enters_i, len(x) - 1\n",
    "    else:\n",
    "        return False\n",
    "\n",
    "%timeit route2(xy)\n",
    "\n"
   ]
  }
 ],
 "metadata": {
  "kernelspec": {
   "display_name": "Python 3",
   "language": "python",
   "name": "python3"
  },
  "language_info": {
   "codemirror_mode": {
    "name": "ipython",
    "version": 3
   },
   "file_extension": ".py",
   "mimetype": "text/x-python",
   "name": "python",
   "nbconvert_exporter": "python",
   "pygments_lexer": "ipython3",
   "version": "3.7.3"
  }
 },
 "nbformat": 4,
 "nbformat_minor": 2
}
