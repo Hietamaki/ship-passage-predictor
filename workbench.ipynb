{
 "cells": [
  {
   "cell_type": "code",
   "execution_count": 1,
   "metadata": {},
   "outputs": [
    {
     "name": "stdout",
     "output_type": "stream",
     "text": [
      "Loaded 2138 objects from nodes.h5\n",
      "Loaded 12911 objects from ships.h5\n"
     ]
    },
    {
     "data": {
      "image/png": "[encoded data removed]",
      "text/plain": [
       "<Figure size 432x288 with 1 Axes>"
      ]
     },
     "metadata": {
      "needs_background": "light"
     },
     "output_type": "display_data"
    }
   ],
   "source": [
    "%matplotlib inline\n",
    "import matplotlib.pyplot as plt\n",
    "plt.plot([1,1.6,3])\n",
    "import constants as c\n",
    "import database as db\n",
    "import numpy as np\n",
    "\n",
    "from util import get_closest\n",
    "%load_ext autoreload\n",
    "%autoreload 2\n",
    "\n",
    "\n",
    "nodes = db.load_list(c.NODES_FILENAME)\n",
    "ships = db.load_list(c.SHIPS_FILENAME)"
   ]
  },
  {
   "cell_type": "code",
   "execution_count": 23,
   "metadata": {},
   "outputs": [
    {
     "name": "stdout",
     "output_type": "stream",
     "text": [
      "[[ 1.9135333  -1.3076064   0.22361125 ... -1.23487103 -1.1835983\n",
      "   1.94080795]\n",
      " [ 3.51617295  3.55163387  1.64597995 ...  4.72228199  3.866573\n",
      "   4.80698855]]\n"
     ]
    },
    {
     "data": {
      "text/plain": [
       "array([[ 1.9135333 ,  3.51617295],\n",
       "       [-1.3076064 ,  3.55163387],\n",
       "       [ 0.22361125,  1.64597995],\n",
       "       ...,\n",
       "       [-1.23487103,  4.72228199],\n",
       "       [-1.1835983 ,  3.866573  ],\n",
       "       [ 1.94080795,  4.80698855]])"
      ]
     },
     "execution_count": 23,
     "metadata": {},
     "output_type": "execute_result"
    }
   ],
   "source": [
    "#n = nodes[100]\n",
    "#n.draw()\n",
    "n.get_features()"
   ]
  },
  {
   "cell_type": "code",
   "execution_count": 11,
   "metadata": {},
   "outputs": [],
   "source": [
    "%matplotlib inline\n",
    "import matplotlib.pyplot as plt\n",
    "from map import Map\n",
    "#ship = ships[4]\n",
    "import cartopy.crs as ccrs\n",
    "\n",
    "#Map.plot_route(ship.xyt[0], ship.xyt[1])\n",
    "Map.draw()#.set_extent([1800100, 3400100, 7600100, 8800100], crs=ccrs.Mercator())\n",
    "#Map.draw_area(c.MEAS_AREA, 'green')\n",
    "#print(ship.detect_passages())\n",
    "# 167 µs per loop\n",
    "#%timeit ship.detect_passages()"
   ]
  },
  {
   "cell_type": "code",
   "execution_count": null,
   "metadata": {},
   "outputs": [],
   "source": [
    "#tests and visualizations\n",
    "    # reach %-score map\n",
    "    # reach\n",
    "        # conf matrix + scores\n",
    "            # with and wihout k optimization\n",
    "        # map of recall and sensitivity by nodes\n",
    "    # path\n",
    "        # accuracy graphs"
   ]
  },
  {
   "cell_type": "code",
   "execution_count": 36,
   "metadata": {},
   "outputs": [
    {
     "name": "stdout",
     "output_type": "stream",
     "text": [
      "100000 loops, best of 5: 6.46 µs per loop\n"
     ]
    }
   ],
   "source": [
    "\n",
    "import route\n",
    "\n",
    "node = get_closest(nodes, 10000, 6555000)\n",
    "#print(len(node.passages))\n",
    "p = node.passages[12]\n",
    "xy = np.array((p.x, p.y))\n",
    "#(95, 105)\n",
    "#10000 loops, best of 5: 20.4 µs per loop\n",
    "\n",
    "%timeit route.route_in_area(xy)\n",
    "#for p in node.passages:\n",
    "#    print(route.route_in_area(p.x, p.y))\n"
   ]
  },
  {
   "cell_type": "code",
   "execution_count": 86,
   "metadata": {},
   "outputs": [
    {
     "name": "stdout",
     "output_type": "stream",
     "text": [
      "The slowest run took 4.98 times longer than the fastest. This could mean that an intermediate result is being cached.\n",
      "100000 loops, best of 5: 12.2 µs per loop\n"
     ]
    },
    {
     "data": {
      "text/plain": [
       "(95, 105)"
      ]
     },
     "execution_count": 86,
     "metadata": {},
     "output_type": "execute_result"
    }
   ],
   "source": [
    "from constants import MEAS_AREA \n",
    "\n",
    "def route2(xy):\n",
    "    enters_i = False\n",
    "    x = xy[0]\n",
    "    y = xy[1]\n",
    "\n",
    "    b = ((xy[0] > MEAS_AREA[0]) & (xy[0] < MEAS_AREA[1]) &\n",
    "         (xy[1] > MEAS_AREA[2]) & (xy[1] < MEAS_AREA[3]))\n",
    "\n",
    "    for i in range(0, len(x) - 1):\n",
    "        if b[i]:\n",
    "\n",
    "            if enters_i is False:\n",
    "                enters_i = i\n",
    "\n",
    "        elif enters_i is not False:\n",
    "            return enters_i, i\n",
    "\n",
    "    if enters_i is not False:\n",
    "        return enters_i, len(x) - 1\n",
    "    else:\n",
    "        return False\n",
    "\n",
    "%timeit route2(xy)\n",
    "\n"
   ]
  }
 ],
 "metadata": {
  "kernelspec": {
   "display_name": "Python 3",
   "language": "python",
   "name": "python3"
  },
  "language_info": {
   "codemirror_mode": {
    "name": "ipython",
    "version": 3
   },
   "file_extension": ".py",
   "mimetype": "text/x-python",
   "name": "python",
   "nbconvert_exporter": "python",
   "pygments_lexer": "ipython3",
   "version": "3.7.5"
  }
 },
 "nbformat": 4,
 "nbformat_minor": 2
}
